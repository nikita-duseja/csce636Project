{
 "cells": [
  {
   "cell_type": "code",
   "execution_count": 1,
   "metadata": {},
   "outputs": [
    {
     "name": "stderr",
     "output_type": "stream",
     "text": [
      "Using TensorFlow backend.\n"
     ]
    }
   ],
   "source": [
    "import pandas as pd\n",
    "import numpy as np\n",
    "from keras.models import Model, Input\n",
    "from keras.layers import LSTM, Embedding, Dense, TimeDistributed, Dropout, Bidirectional\n",
    "from keras_contrib.layers import CRF\n",
    "import os"
   ]
  },
  {
   "cell_type": "code",
   "execution_count": 2,
   "metadata": {},
   "outputs": [],
   "source": [
    "word2TagDict = {}\n",
    "dictTags = {}\n",
    "data = []\n",
    "\n",
    "with open('final.tsv', 'r') as train_data:\n",
    "    tagLine = train_data.readline()\n",
    "    while tagLine:\n",
    "        tokens = tagLine.split()\n",
    "        if len(tokens) == 6:\n",
    "            if tokens[0] in dictTags:\n",
    "                dictTags[tokens[0]][tokens[4]] = tokens[5]\n",
    "            else:\n",
    "                dictTags[tokens[0]] = {}\n",
    "                dictTags[tokens[0]][tokens[4]] = tokens[5]\n",
    "\n",
    "            word2TagDict[tokens[4]] = tokens[5]\n",
    "        tagLine = train_data.readline()\n"
   ]
  },
  {
   "cell_type": "code",
   "execution_count": 3,
   "metadata": {},
   "outputs": [],
   "source": [
    "data = []\n",
    "\n",
    "for tweet in dictTags:\n",
    "    sentence = dictTags[tweet]\n",
    "    listTup = [(k, v) for k, v in sentence.items()]\n",
    "    data.append(listTup)"
   ]
  },
  {
   "cell_type": "code",
   "execution_count": 4,
   "metadata": {},
   "outputs": [
    {
     "data": {
      "text/plain": [
       "8732"
      ]
     },
     "execution_count": 4,
     "metadata": {},
     "output_type": "execute_result"
    }
   ],
   "source": [
    "len(dictTags)"
   ]
  },
  {
   "cell_type": "code",
   "execution_count": 5,
   "metadata": {},
   "outputs": [],
   "source": [
    "words = list(set(word2TagDict.keys()))\n",
    "tags = list(set(word2TagDict.values()))\n",
    "words.sort()\n",
    "tags.sort()"
   ]
  },
  {
   "cell_type": "code",
   "execution_count": 6,
   "metadata": {},
   "outputs": [],
   "source": [
    "num_tags = len(tags)\n",
    "num_words = len(words)"
   ]
  },
  {
   "cell_type": "code",
   "execution_count": 7,
   "metadata": {},
   "outputs": [
    {
     "data": {
      "text/plain": [
       "['ambiguous', 'lang1', 'lang2', 'mixed', 'ne', 'other']"
      ]
     },
     "execution_count": 7,
     "metadata": {},
     "output_type": "execute_result"
    }
   ],
   "source": [
    "tags"
   ]
  },
  {
   "cell_type": "code",
   "execution_count": 8,
   "metadata": {},
   "outputs": [],
   "source": [
    "max_len = 75\n",
    "word2idx = {w: i + 1 for i, w in enumerate(words)}\n",
    "tag2idx = {t: i for i, t in enumerate(tags)}"
   ]
  },
  {
   "cell_type": "code",
   "execution_count": 9,
   "metadata": {},
   "outputs": [],
   "source": [
    "from keras.preprocessing.sequence import pad_sequences\n",
    "X = [[word2idx[w[0]] for w in s] for s in data]"
   ]
  },
  {
   "cell_type": "code",
   "execution_count": 10,
   "metadata": {},
   "outputs": [],
   "source": [
    "X = pad_sequences(maxlen=max_len, sequences=X, padding=\"post\", value=num_words-1)"
   ]
  },
  {
   "cell_type": "code",
   "execution_count": 22,
   "metadata": {},
   "outputs": [],
   "source": [
    "y = [[tag2idx[w[1]] for w in s] for s in data]\n",
    "y = pad_sequences(maxlen=max_len, sequences=y, padding=\"post\", value=tag2idx[\"other\"])"
   ]
  },
  {
   "cell_type": "code",
   "execution_count": 23,
   "metadata": {},
   "outputs": [],
   "source": [
    "from keras.utils import to_categorical\n",
    "y = [to_categorical(i, num_classes=num_tags) for i in y]"
   ]
  },
  {
   "cell_type": "code",
   "execution_count": 24,
   "metadata": {},
   "outputs": [],
   "source": [
    "from sklearn.model_selection import train_test_split\n",
    "X_tr, X_te, y_tr, y_te = train_test_split(X, y, test_size=0.1)"
   ]
  },
  {
   "cell_type": "code",
   "execution_count": 25,
   "metadata": {},
   "outputs": [],
   "source": [
    "from keras.models import Model, Input\n",
    "from keras.layers import LSTM, Embedding, Dense, TimeDistributed, Dropout, Bidirectional\n",
    "from keras_contrib.layers import CRF\n",
    "os.environ[\"CUDA_VISIBLE_DEVICES\"]=\"1\""
   ]
  },
  {
   "cell_type": "code",
   "execution_count": 25,
   "metadata": {},
   "outputs": [],
   "source": [
    "# input = Input(shape=(max_len,))\n",
    "# model = Embedding(input_dim=num_words + 1, output_dim=50,\n",
    "#                   input_length=max_len, mask_zero=True)(input)  # 20-dim embedding\n",
    "# model = Bidirectional(LSTM(units=50, return_sequences=True,\n",
    "#                            recurrent_dropout=0.1))(model)  # variational biLSTM\n",
    "# model = TimeDistributed(Dense(50, activation=\"relu\"))(model)  # a dense layer as suggested by neuralNer\n",
    "# crf = CRF(num_tags)  # CRF layer\n",
    "# out = crf(model)  # output"
   ]
  },
  {
   "cell_type": "code",
   "execution_count": 26,
   "metadata": {},
   "outputs": [],
   "source": [
    "## biLSTM for language identification \n",
    "input = Input(shape=(max_len,))\n",
    "model = Embedding(input_dim=num_words, output_dim=50, input_length=max_len)(input)\n",
    "model = Dropout(0.1)(model)\n",
    "model = Bidirectional(LSTM(units=100, return_sequences=True, recurrent_dropout=0.1))(model)\n",
    "out = TimeDistributed(Dense(num_tags, activation=\"softmax\"))(model)  # softmax output layer\n"
   ]
  },
  {
   "cell_type": "code",
   "execution_count": 27,
   "metadata": {},
   "outputs": [],
   "source": [
    "model = Model(input, out)"
   ]
  },
  {
   "cell_type": "code",
   "execution_count": 27,
   "metadata": {},
   "outputs": [
    {
     "name": "stderr",
     "output_type": "stream",
     "text": [
      "/home/jharsh/miniconda3/envs/kerasGPU/lib/python3.6/site-packages/keras_contrib/layers/crf.py:346: UserWarning: CRF.loss_function is deprecated and it might be removed in the future. Please use losses.crf_loss instead.\n",
      "  warnings.warn('CRF.loss_function is deprecated '\n",
      "/home/jharsh/miniconda3/envs/kerasGPU/lib/python3.6/site-packages/keras_contrib/layers/crf.py:353: UserWarning: CRF.accuracy is deprecated and it might be removed in the future. Please use metrics.crf_accuracy\n",
      "  warnings.warn('CRF.accuracy is deprecated and it '\n"
     ]
    }
   ],
   "source": [
    "# model.compile(optimizer=\"rmsprop\", loss=crf.loss_function, metrics=[crf.accuracy])"
   ]
  },
  {
   "cell_type": "code",
   "execution_count": 28,
   "metadata": {},
   "outputs": [],
   "source": [
    "model.compile(optimizer=\"rmsprop\", loss=\"categorical_crossentropy\", metrics=[\"accuracy\"])"
   ]
  },
  {
   "cell_type": "code",
   "execution_count": 29,
   "metadata": {},
   "outputs": [
    {
     "name": "stdout",
     "output_type": "stream",
     "text": [
      "Train on 7072 samples, validate on 786 samples\n",
      "Epoch 1/50\n",
      "7072/7072 [==============================] - 24s 3ms/step - loss: 0.1632 - acc: 0.9434 - val_loss: 0.0611 - val_acc: 0.9816\n",
      "Epoch 2/50\n",
      "7072/7072 [==============================] - 23s 3ms/step - loss: 0.0480 - acc: 0.9866 - val_loss: 0.0505 - val_acc: 0.9858\n",
      "Epoch 3/50\n",
      "7072/7072 [==============================] - 23s 3ms/step - loss: 0.0393 - acc: 0.9894 - val_loss: 0.0457 - val_acc: 0.9872\n",
      "Epoch 4/50\n",
      "7072/7072 [==============================] - 23s 3ms/step - loss: 0.0342 - acc: 0.9910 - val_loss: 0.0443 - val_acc: 0.9882\n",
      "Epoch 5/50\n",
      "7072/7072 [==============================] - 23s 3ms/step - loss: 0.0302 - acc: 0.9925 - val_loss: 0.0425 - val_acc: 0.9887\n",
      "Epoch 6/50\n",
      "7072/7072 [==============================] - 23s 3ms/step - loss: 0.0268 - acc: 0.9936 - val_loss: 0.0421 - val_acc: 0.9891\n",
      "Epoch 7/50\n",
      "7072/7072 [==============================] - 23s 3ms/step - loss: 0.0240 - acc: 0.9944 - val_loss: 0.0422 - val_acc: 0.9893\n",
      "Epoch 8/50\n",
      "7072/7072 [==============================] - 23s 3ms/step - loss: 0.0218 - acc: 0.9950 - val_loss: 0.0427 - val_acc: 0.9886\n",
      "Epoch 9/50\n",
      "7072/7072 [==============================] - 23s 3ms/step - loss: 0.0199 - acc: 0.9955 - val_loss: 0.0418 - val_acc: 0.9887\n",
      "Epoch 10/50\n",
      "7072/7072 [==============================] - 23s 3ms/step - loss: 0.0184 - acc: 0.9958 - val_loss: 0.0419 - val_acc: 0.9891\n",
      "Epoch 11/50\n",
      "7072/7072 [==============================] - 23s 3ms/step - loss: 0.0171 - acc: 0.9961 - val_loss: 0.0428 - val_acc: 0.9884\n",
      "Epoch 12/50\n",
      "7072/7072 [==============================] - 23s 3ms/step - loss: 0.0160 - acc: 0.9963 - val_loss: 0.0434 - val_acc: 0.9886\n",
      "Epoch 13/50\n",
      "7072/7072 [==============================] - 23s 3ms/step - loss: 0.0150 - acc: 0.9964 - val_loss: 0.0437 - val_acc: 0.9886\n",
      "Epoch 14/50\n",
      "7072/7072 [==============================] - 23s 3ms/step - loss: 0.0143 - acc: 0.9965 - val_loss: 0.0442 - val_acc: 0.9886\n",
      "Epoch 15/50\n",
      "7072/7072 [==============================] - 23s 3ms/step - loss: 0.0136 - acc: 0.9966 - val_loss: 0.0481 - val_acc: 0.9864\n",
      "Epoch 16/50\n",
      "7072/7072 [==============================] - 23s 3ms/step - loss: 0.0128 - acc: 0.9968 - val_loss: 0.0458 - val_acc: 0.9880\n",
      "Epoch 17/50\n",
      "7072/7072 [==============================] - 23s 3ms/step - loss: 0.0121 - acc: 0.9968 - val_loss: 0.0459 - val_acc: 0.9878\n",
      "Epoch 18/50\n",
      "7072/7072 [==============================] - 23s 3ms/step - loss: 0.0115 - acc: 0.9970 - val_loss: 0.0482 - val_acc: 0.9870\n",
      "Epoch 19/50\n",
      "7072/7072 [==============================] - 23s 3ms/step - loss: 0.0108 - acc: 0.9971 - val_loss: 0.0470 - val_acc: 0.9877\n",
      "Epoch 20/50\n",
      "7072/7072 [==============================] - 23s 3ms/step - loss: 0.0101 - acc: 0.9972 - val_loss: 0.0485 - val_acc: 0.9877\n",
      "Epoch 21/50\n",
      "7072/7072 [==============================] - 23s 3ms/step - loss: 0.0097 - acc: 0.9973 - val_loss: 0.0499 - val_acc: 0.9875\n",
      "Epoch 22/50\n",
      "7072/7072 [==============================] - 23s 3ms/step - loss: 0.0090 - acc: 0.9975 - val_loss: 0.0531 - val_acc: 0.9872\n",
      "Epoch 23/50\n",
      "7072/7072 [==============================] - 23s 3ms/step - loss: 0.0086 - acc: 0.9975 - val_loss: 0.0528 - val_acc: 0.9870\n",
      "Epoch 24/50\n",
      "7072/7072 [==============================] - 23s 3ms/step - loss: 0.0082 - acc: 0.9976 - val_loss: 0.0542 - val_acc: 0.9865\n",
      "Epoch 25/50\n",
      "7072/7072 [==============================] - 23s 3ms/step - loss: 0.0077 - acc: 0.9977 - val_loss: 0.0558 - val_acc: 0.9865\n",
      "Epoch 26/50\n",
      "7072/7072 [==============================] - 23s 3ms/step - loss: 0.0072 - acc: 0.9979 - val_loss: 0.0561 - val_acc: 0.9869\n",
      "Epoch 27/50\n",
      "7072/7072 [==============================] - 23s 3ms/step - loss: 0.0068 - acc: 0.9979 - val_loss: 0.0579 - val_acc: 0.9870\n",
      "Epoch 28/50\n",
      "7072/7072 [==============================] - 23s 3ms/step - loss: 0.0065 - acc: 0.9980 - val_loss: 0.0589 - val_acc: 0.9873\n",
      "Epoch 29/50\n",
      "7072/7072 [==============================] - 23s 3ms/step - loss: 0.0061 - acc: 0.9981 - val_loss: 0.0609 - val_acc: 0.9859\n",
      "Epoch 30/50\n",
      "7072/7072 [==============================] - 23s 3ms/step - loss: 0.0060 - acc: 0.9982 - val_loss: 0.0615 - val_acc: 0.9862\n",
      "Epoch 31/50\n",
      "7072/7072 [==============================] - 23s 3ms/step - loss: 0.0053 - acc: 0.9983 - val_loss: 0.0638 - val_acc: 0.9864\n",
      "Epoch 32/50\n",
      "7072/7072 [==============================] - 23s 3ms/step - loss: 0.0050 - acc: 0.9984 - val_loss: 0.0655 - val_acc: 0.9858\n",
      "Epoch 33/50\n",
      "7072/7072 [==============================] - 23s 3ms/step - loss: 0.0049 - acc: 0.9985 - val_loss: 0.0637 - val_acc: 0.9866\n",
      "Epoch 34/50\n",
      "7072/7072 [==============================] - 23s 3ms/step - loss: 0.0048 - acc: 0.9985 - val_loss: 0.0654 - val_acc: 0.9857\n",
      "Epoch 35/50\n",
      "7072/7072 [==============================] - 23s 3ms/step - loss: 0.0044 - acc: 0.9986 - val_loss: 0.0668 - val_acc: 0.9861\n",
      "Epoch 36/50\n",
      "7072/7072 [==============================] - 23s 3ms/step - loss: 0.0041 - acc: 0.9987 - val_loss: 0.0667 - val_acc: 0.9855\n",
      "Epoch 37/50\n",
      "7072/7072 [==============================] - 23s 3ms/step - loss: 0.0038 - acc: 0.9988 - val_loss: 0.0691 - val_acc: 0.9857\n",
      "Epoch 38/50\n",
      "7072/7072 [==============================] - 23s 3ms/step - loss: 0.0037 - acc: 0.9988 - val_loss: 0.0710 - val_acc: 0.9860\n",
      "Epoch 39/50\n",
      "7072/7072 [==============================] - 23s 3ms/step - loss: 0.0036 - acc: 0.9988 - val_loss: 0.0716 - val_acc: 0.9858\n",
      "Epoch 40/50\n",
      "7072/7072 [==============================] - 23s 3ms/step - loss: 0.0032 - acc: 0.9990 - val_loss: 0.0730 - val_acc: 0.9856\n",
      "Epoch 41/50\n",
      "7072/7072 [==============================] - 23s 3ms/step - loss: 0.0033 - acc: 0.9989 - val_loss: 0.0737 - val_acc: 0.9853\n",
      "Epoch 42/50\n",
      "7072/7072 [==============================] - 23s 3ms/step - loss: 0.0029 - acc: 0.9990 - val_loss: 0.0737 - val_acc: 0.9859\n",
      "Epoch 43/50\n",
      "7072/7072 [==============================] - 23s 3ms/step - loss: 0.0029 - acc: 0.9991 - val_loss: 0.0770 - val_acc: 0.9847\n",
      "Epoch 44/50\n",
      "7072/7072 [==============================] - 23s 3ms/step - loss: 0.0027 - acc: 0.9991 - val_loss: 0.0754 - val_acc: 0.9853\n",
      "Epoch 45/50\n",
      "7072/7072 [==============================] - 23s 3ms/step - loss: 0.0026 - acc: 0.9992 - val_loss: 0.0761 - val_acc: 0.9854\n",
      "Epoch 46/50\n",
      "7072/7072 [==============================] - 23s 3ms/step - loss: 0.0024 - acc: 0.9992 - val_loss: 0.0795 - val_acc: 0.9852\n",
      "Epoch 47/50\n",
      "7072/7072 [==============================] - 23s 3ms/step - loss: 0.0023 - acc: 0.9992 - val_loss: 0.0810 - val_acc: 0.9855\n",
      "Epoch 48/50\n",
      "7072/7072 [==============================] - 23s 3ms/step - loss: 0.0021 - acc: 0.9993 - val_loss: 0.0791 - val_acc: 0.9851\n",
      "Epoch 49/50\n",
      "7072/7072 [==============================] - 23s 3ms/step - loss: 0.0021 - acc: 0.9994 - val_loss: 0.0809 - val_acc: 0.9850\n",
      "Epoch 50/50\n",
      "7072/7072 [==============================] - 23s 3ms/step - loss: 0.0019 - acc: 0.9993 - val_loss: 0.0834 - val_acc: 0.9849\n"
     ]
    }
   ],
   "source": [
    "history = model.fit(X_tr, np.array(y_tr), batch_size=32, epochs=50, validation_split=0.1, verbose=1)\n"
   ]
  },
  {
   "cell_type": "code",
   "execution_count": 30,
   "metadata": {},
   "outputs": [
    {
     "name": "stdout",
     "output_type": "stream",
     "text": [
      "874/874 [==============================] - 1s 1ms/step\n"
     ]
    }
   ],
   "source": [
    "from seqeval.metrics import precision_score, recall_score, f1_score, classification_report\n",
    "test_pred = model.predict(X_te, verbose=1)\n",
    "\n",
    "idx2tag = {i: w for w, i in tag2idx.items()}\n",
    "\n",
    "def pred2label(pred):\n",
    "    out = []\n",
    "    for pred_i in pred:\n",
    "        out_i = []\n",
    "        for p in pred_i:\n",
    "            p_i = np.argmax(p)\n",
    "            out_i.append(idx2tag[p_i].replace(\"PAD\", \"other\"))\n",
    "        out.append(out_i)\n",
    "    return out\n",
    "    \n",
    "pred_labels = pred2label(test_pred)\n",
    "test_labels = pred2label(y_te)"
   ]
  },
  {
   "cell_type": "code",
   "execution_count": 31,
   "metadata": {},
   "outputs": [
    {
     "name": "stdout",
     "output_type": "stream",
     "text": [
      "             precision    recall  f1-score   support\n",
      "\n",
      "      lang1       0.62      0.66      0.64      1115\n",
      "  ambiguous       0.04      0.09      0.05        22\n",
      "      other       0.84      0.86      0.85      1843\n",
      "      lang2       0.56      0.54      0.55       648\n",
      "         ne       0.33      0.42      0.37       220\n",
      "      mixed       0.00      0.00      0.00         2\n",
      "\n",
      "avg / total       0.70      0.72      0.71      3850\n",
      "\n"
     ]
    }
   ],
   "source": [
    "print(classification_report(test_labels, pred_labels))"
   ]
  },
  {
   "cell_type": "code",
   "execution_count": null,
   "metadata": {},
   "outputs": [],
   "source": []
  }
 ],
 "metadata": {
  "kernelspec": {
   "display_name": "Python 3",
   "language": "python",
   "name": "python3"
  },
  "language_info": {
   "codemirror_mode": {
    "name": "ipython",
    "version": 3
   },
   "file_extension": ".py",
   "mimetype": "text/x-python",
   "name": "python",
   "nbconvert_exporter": "python",
   "pygments_lexer": "ipython3",
   "version": "3.6.8"
  }
 },
 "nbformat": 4,
 "nbformat_minor": 2
}
