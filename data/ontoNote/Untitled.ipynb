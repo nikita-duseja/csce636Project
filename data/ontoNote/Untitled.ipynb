{
 "cells": [
  {
   "cell_type": "code",
   "execution_count": 11,
   "metadata": {},
   "outputs": [],
   "source": [
    "import pandas as pd\n",
    "import numpy as np\n",
    "from keras.models import Model, Input\n",
    "from keras.layers import LSTM, Embedding, Dense, TimeDistributed, Dropout, Bidirectional\n",
    "from keras_contrib.layers import CRF\n",
    "import os\n"
   ]
  },
  {
   "cell_type": "code",
   "execution_count": 31,
   "metadata": {},
   "outputs": [],
   "source": [
    "word2TagDict = {}\n",
    "\n",
    "dictTags = {}\n",
    "data = []\n",
    "\n",
    "with open('train.data', 'r') as train_data:\n",
    "    tagLine = train_data.readline()\n",
    "    while tagLine:\n",
    "        if len(tagLine.strip()) == 0:\n",
    "            listTup = [(k, v) for k, v in dictTags.items()]\n",
    "            data.append(listTup)\n",
    "            dictTags = {}\n",
    "        else:\n",
    "            tokens = tagLine.split()\n",
    "            dictTags[tokens[0]] = tokens[3]\n",
    "            word2TagDict[tokens[0]] = tokens[3]\n",
    "        \n",
    "        tagLine = train_data.readline()"
   ]
  },
  {
   "cell_type": "code",
   "execution_count": 32,
   "metadata": {},
   "outputs": [
    {
     "data": {
      "text/plain": [
       "14985"
      ]
     },
     "execution_count": 32,
     "metadata": {},
     "output_type": "execute_result"
    }
   ],
   "source": [
    "len(data)\n"
   ]
  },
  {
   "cell_type": "code",
   "execution_count": 36,
   "metadata": {},
   "outputs": [],
   "source": [
    "num_words = len(set(word2TagDict.keys()))\n",
    "num_tags = len(set(word2TagDict.values()))"
   ]
  },
  {
   "cell_type": "code",
   "execution_count": 42,
   "metadata": {},
   "outputs": [],
   "source": [
    "words = list(set(word2TagDict.keys()))\n",
    "tags = list(set(word2TagDict.values()))\n",
    "words.sort()\n",
    "tags.sort()"
   ]
  },
  {
   "cell_type": "code",
   "execution_count": 50,
   "metadata": {},
   "outputs": [
    {
     "data": {
      "text/plain": [
       "['B-LOC', 'B-MISC', 'B-ORG', 'I-LOC', 'I-MISC', 'I-ORG', 'I-PER', 'O']"
      ]
     },
     "execution_count": 50,
     "metadata": {},
     "output_type": "execute_result"
    }
   ],
   "source": [
    "tags"
   ]
  },
  {
   "cell_type": "code",
   "execution_count": 43,
   "metadata": {},
   "outputs": [],
   "source": [
    "max_len = 75\n",
    "word2idx = {w: i + 1 for i, w in enumerate(words)}\n",
    "tag2idx = {t: i for i, t in enumerate(tags)}\n"
   ]
  },
  {
   "cell_type": "code",
   "execution_count": 47,
   "metadata": {},
   "outputs": [],
   "source": [
    "from keras.preprocessing.sequence import pad_sequences\n",
    "X = [[word2idx[w[0]] for w in s] for s in data]"
   ]
  },
  {
   "cell_type": "code",
   "execution_count": 49,
   "metadata": {},
   "outputs": [],
   "source": [
    "X = pad_sequences(maxlen=max_len, sequences=X, padding=\"post\", value=num_words-1)"
   ]
  },
  {
   "cell_type": "code",
   "execution_count": 52,
   "metadata": {},
   "outputs": [],
   "source": [
    "y = [[tag2idx[w[1]] for w in s] for s in data]\n",
    "y = pad_sequences(maxlen=max_len, sequences=y, padding=\"post\", value=tag2idx[\"O\"])"
   ]
  },
  {
   "cell_type": "code",
   "execution_count": 53,
   "metadata": {},
   "outputs": [],
   "source": [
    "from keras.utils import to_categorical\n",
    "y = [to_categorical(i, num_classes=num_tags) for i in y]"
   ]
  },
  {
   "cell_type": "code",
   "execution_count": 54,
   "metadata": {},
   "outputs": [],
   "source": [
    "from sklearn.model_selection import train_test_split\n",
    "X_tr, X_te, y_tr, y_te = train_test_split(X, y, test_size=0.1)"
   ]
  },
  {
   "cell_type": "code",
   "execution_count": 55,
   "metadata": {},
   "outputs": [],
   "source": [
    "from keras.models import Model, Input\n",
    "from keras.layers import LSTM, Embedding, Dense, TimeDistributed, Dropout, Bidirectional\n",
    "from keras_contrib.layers import CRF\n",
    "os.environ[\"CUDA_VISIBLE_DEVICES\"]=\"1\""
   ]
  },
  {
   "cell_type": "code",
   "execution_count": 71,
   "metadata": {},
   "outputs": [],
   "source": [
    "input = Input(shape=(max_len,))\n",
    "model = Embedding(input_dim=num_words + 1, output_dim=50,\n",
    "                  input_length=max_len, mask_zero=True)(input)  # 20-dim embedding\n",
    "model = Bidirectional(LSTM(units=50, return_sequences=True,\n",
    "                           recurrent_dropout=0.1))(model)  # variational biLSTM\n",
    "model = TimeDistributed(Dense(50, activation=\"relu\"))(model)  # a dense layer as suggested by neuralNer\n",
    "crf = CRF(num_tags)  # CRF layer\n",
    "out = crf(model)  # output"
   ]
  },
  {
   "cell_type": "code",
   "execution_count": null,
   "metadata": {},
   "outputs": [],
   "source": [
    "input = Input(shape=(max_len,))\n",
    "model = Embedding(input_dim=n_words + 1, output_dim=50,\n",
    "                  input_length=max_len, mask_zero=True)(input)  # 20-dim embedding\n",
    "model = Bidirectional(LSTM(units=50, return_sequences=True,\n",
    "                           recurrent_dropout=0.1))(model)  # variational biLSTM\n",
    "model = TimeDistributed(Dense(50, activation=\"relu\"))(model)  # a dense layer as suggested by neuralNer\n",
    "crf = CRF(n_tags)  # CRF layer\n",
    "out = crf(model)  # output"
   ]
  },
  {
   "cell_type": "code",
   "execution_count": 72,
   "metadata": {},
   "outputs": [],
   "source": [
    "model = Model(input, out)"
   ]
  },
  {
   "cell_type": "code",
   "execution_count": 73,
   "metadata": {},
   "outputs": [],
   "source": [
    "model.compile(optimizer=\"rmsprop\", loss=\"categorical_crossentropy\", metrics=[\"accuracy\"])"
   ]
  },
  {
   "cell_type": "code",
   "execution_count": 74,
   "metadata": {},
   "outputs": [],
   "source": [
    "model.compile(optimizer=\"rmsprop\", loss=crf.loss_function, metrics=[crf.accuracy])"
   ]
  },
  {
   "cell_type": "code",
   "execution_count": 67,
   "metadata": {},
   "outputs": [
    {
     "name": "stdout",
     "output_type": "stream",
     "text": [
      "_________________________________________________________________\n",
      "Layer (type)                 Output Shape              Param #   \n",
      "=================================================================\n",
      "input_2 (InputLayer)         (None, 75)                0         \n",
      "_________________________________________________________________\n",
      "embedding_2 (Embedding)      (None, 75, 20)            495900    \n",
      "_________________________________________________________________\n",
      "bidirectional_2 (Bidirection (None, 75, 100)           28400     \n",
      "_________________________________________________________________\n",
      "time_distributed_2 (TimeDist (None, 75, 50)            5050      \n",
      "_________________________________________________________________\n",
      "crf_2 (CRF)                  (None, 75, 8)             488       \n",
      "=================================================================\n",
      "Total params: 529,838\n",
      "Trainable params: 529,838\n",
      "Non-trainable params: 0\n",
      "_________________________________________________________________\n"
     ]
    }
   ],
   "source": [
    "model.summary()"
   ]
  },
  {
   "cell_type": "code",
   "execution_count": 78,
   "metadata": {},
   "outputs": [
    {
     "name": "stdout",
     "output_type": "stream",
     "text": [
      "Train on 12137 samples, validate on 1349 samples\n",
      "Epoch 1/50\n",
      "12137/12137 [==============================] - 60s 5ms/step - loss: 6.5716e-04 - crf_viterbi_accuracy: 0.9998 - val_loss: 0.0391 - val_crf_viterbi_accuracy: 0.9908\n",
      "Epoch 2/50\n",
      "12137/12137 [==============================] - 60s 5ms/step - loss: 6.2736e-04 - crf_viterbi_accuracy: 0.9998 - val_loss: 0.0400 - val_crf_viterbi_accuracy: 0.9918\n",
      "Epoch 3/50\n",
      "12137/12137 [==============================] - 60s 5ms/step - loss: 5.1878e-04 - crf_viterbi_accuracy: 0.9998 - val_loss: 0.0429 - val_crf_viterbi_accuracy: 0.9911\n",
      "Epoch 4/50\n",
      "12137/12137 [==============================] - 60s 5ms/step - loss: 5.4018e-04 - crf_viterbi_accuracy: 0.9998 - val_loss: 0.0404 - val_crf_viterbi_accuracy: 0.9919\n",
      "Epoch 5/50\n",
      "12137/12137 [==============================] - 60s 5ms/step - loss: 4.7671e-04 - crf_viterbi_accuracy: 0.9999 - val_loss: 0.0435 - val_crf_viterbi_accuracy: 0.9906\n",
      "Epoch 6/50\n",
      "12137/12137 [==============================] - 60s 5ms/step - loss: 4.2276e-04 - crf_viterbi_accuracy: 0.9999 - val_loss: 0.0502 - val_crf_viterbi_accuracy: 0.9897\n",
      "Epoch 7/50\n",
      "12137/12137 [==============================] - 60s 5ms/step - loss: 4.1506e-04 - crf_viterbi_accuracy: 0.9999 - val_loss: 0.0498 - val_crf_viterbi_accuracy: 0.9903\n",
      "Epoch 8/50\n",
      "12137/12137 [==============================] - 60s 5ms/step - loss: 3.9162e-04 - crf_viterbi_accuracy: 0.9999 - val_loss: 0.0468 - val_crf_viterbi_accuracy: 0.9905\n",
      "Epoch 9/50\n",
      "12137/12137 [==============================] - 60s 5ms/step - loss: 3.5330e-04 - crf_viterbi_accuracy: 0.9999 - val_loss: 0.0506 - val_crf_viterbi_accuracy: 0.9904\n",
      "Epoch 10/50\n",
      "12137/12137 [==============================] - 60s 5ms/step - loss: 3.3637e-04 - crf_viterbi_accuracy: 0.9999 - val_loss: 0.0483 - val_crf_viterbi_accuracy: 0.9904\n",
      "Epoch 11/50\n",
      "12137/12137 [==============================] - 60s 5ms/step - loss: 3.0549e-04 - crf_viterbi_accuracy: 0.9999 - val_loss: 0.0526 - val_crf_viterbi_accuracy: 0.9899\n",
      "Epoch 12/50\n",
      "12137/12137 [==============================] - 60s 5ms/step - loss: 2.6787e-04 - crf_viterbi_accuracy: 0.9999 - val_loss: 0.0534 - val_crf_viterbi_accuracy: 0.9899\n",
      "Epoch 13/50\n",
      "12137/12137 [==============================] - 60s 5ms/step - loss: 2.7003e-04 - crf_viterbi_accuracy: 0.9999 - val_loss: 0.0555 - val_crf_viterbi_accuracy: 0.9901\n",
      "Epoch 14/50\n",
      "12137/12137 [==============================] - 60s 5ms/step - loss: 2.6686e-04 - crf_viterbi_accuracy: 0.9999 - val_loss: 0.0611 - val_crf_viterbi_accuracy: 0.9890\n",
      "Epoch 15/50\n",
      "12137/12137 [==============================] - 60s 5ms/step - loss: 2.4785e-04 - crf_viterbi_accuracy: 0.9999 - val_loss: 0.0634 - val_crf_viterbi_accuracy: 0.9893\n",
      "Epoch 16/50\n",
      "12137/12137 [==============================] - 60s 5ms/step - loss: 2.1431e-04 - crf_viterbi_accuracy: 0.9999 - val_loss: 0.0622 - val_crf_viterbi_accuracy: 0.9890\n",
      "Epoch 17/50\n",
      "12137/12137 [==============================] - 60s 5ms/step - loss: 2.2040e-04 - crf_viterbi_accuracy: 0.9999 - val_loss: 0.0627 - val_crf_viterbi_accuracy: 0.9894\n",
      "Epoch 18/50\n",
      "12137/12137 [==============================] - 60s 5ms/step - loss: 1.9968e-04 - crf_viterbi_accuracy: 0.9999 - val_loss: 0.0664 - val_crf_viterbi_accuracy: 0.9888\n",
      "Epoch 19/50\n",
      "12137/12137 [==============================] - 60s 5ms/step - loss: 1.8972e-04 - crf_viterbi_accuracy: 0.9999 - val_loss: 0.0709 - val_crf_viterbi_accuracy: 0.9886\n",
      "Epoch 20/50\n",
      "12137/12137 [==============================] - 60s 5ms/step - loss: 1.8313e-04 - crf_viterbi_accuracy: 1.0000 - val_loss: 0.0613 - val_crf_viterbi_accuracy: 0.9897\n",
      "Epoch 21/50\n",
      "12137/12137 [==============================] - 60s 5ms/step - loss: 1.6843e-04 - crf_viterbi_accuracy: 0.9999 - val_loss: 0.0708 - val_crf_viterbi_accuracy: 0.9891\n",
      "Epoch 22/50\n",
      "12137/12137 [==============================] - 60s 5ms/step - loss: 1.7866e-04 - crf_viterbi_accuracy: 1.0000 - val_loss: 0.0591 - val_crf_viterbi_accuracy: 0.9900\n",
      "Epoch 23/50\n",
      "12137/12137 [==============================] - 60s 5ms/step - loss: 1.6275e-04 - crf_viterbi_accuracy: 1.0000 - val_loss: 0.0666 - val_crf_viterbi_accuracy: 0.9892\n",
      "Epoch 24/50\n",
      "12137/12137 [==============================] - 60s 5ms/step - loss: 1.8187e-04 - crf_viterbi_accuracy: 1.0000 - val_loss: 0.0690 - val_crf_viterbi_accuracy: 0.9895\n",
      "Epoch 25/50\n",
      "12137/12137 [==============================] - 60s 5ms/step - loss: 1.7949e-04 - crf_viterbi_accuracy: 1.0000 - val_loss: 0.0715 - val_crf_viterbi_accuracy: 0.9893\n",
      "Epoch 26/50\n",
      "12137/12137 [==============================] - 60s 5ms/step - loss: 1.7873e-04 - crf_viterbi_accuracy: 1.0000 - val_loss: 0.0630 - val_crf_viterbi_accuracy: 0.9901\n",
      "Epoch 27/50\n",
      "12137/12137 [==============================] - 60s 5ms/step - loss: 1.3402e-04 - crf_viterbi_accuracy: 1.0000 - val_loss: 0.0694 - val_crf_viterbi_accuracy: 0.9890\n",
      "Epoch 28/50\n",
      "12137/12137 [==============================] - 60s 5ms/step - loss: 1.3961e-04 - crf_viterbi_accuracy: 1.0000 - val_loss: 0.0715 - val_crf_viterbi_accuracy: 0.9895\n",
      "Epoch 29/50\n",
      "12137/12137 [==============================] - 60s 5ms/step - loss: 1.6954e-04 - crf_viterbi_accuracy: 1.0000 - val_loss: 0.0671 - val_crf_viterbi_accuracy: 0.9898\n",
      "Epoch 30/50\n",
      "12137/12137 [==============================] - 60s 5ms/step - loss: 1.2944e-04 - crf_viterbi_accuracy: 1.0000 - val_loss: 0.0727 - val_crf_viterbi_accuracy: 0.9895\n",
      "Epoch 31/50\n",
      "12137/12137 [==============================] - 60s 5ms/step - loss: 1.2952e-04 - crf_viterbi_accuracy: 1.0000 - val_loss: 0.0693 - val_crf_viterbi_accuracy: 0.9904\n",
      "Epoch 32/50\n",
      "12137/12137 [==============================] - 60s 5ms/step - loss: 1.3868e-04 - crf_viterbi_accuracy: 1.0000 - val_loss: 0.0730 - val_crf_viterbi_accuracy: 0.9899\n",
      "Epoch 33/50\n",
      "12137/12137 [==============================] - 60s 5ms/step - loss: 1.2818e-04 - crf_viterbi_accuracy: 1.0000 - val_loss: 0.0717 - val_crf_viterbi_accuracy: 0.9897\n",
      "Epoch 34/50\n",
      "12137/12137 [==============================] - 60s 5ms/step - loss: 1.2581e-04 - crf_viterbi_accuracy: 1.0000 - val_loss: 0.0773 - val_crf_viterbi_accuracy: 0.9889\n",
      "Epoch 35/50\n",
      "12137/12137 [==============================] - 60s 5ms/step - loss: 1.2625e-04 - crf_viterbi_accuracy: 1.0000 - val_loss: 0.0690 - val_crf_viterbi_accuracy: 0.9904\n",
      "Epoch 36/50\n",
      "12137/12137 [==============================] - 60s 5ms/step - loss: 1.3052e-04 - crf_viterbi_accuracy: 1.0000 - val_loss: 0.0666 - val_crf_viterbi_accuracy: 0.9907\n",
      "Epoch 37/50\n",
      "12137/12137 [==============================] - 60s 5ms/step - loss: 1.2102e-04 - crf_viterbi_accuracy: 1.0000 - val_loss: 0.0792 - val_crf_viterbi_accuracy: 0.9892\n",
      "Epoch 38/50\n",
      "12137/12137 [==============================] - 60s 5ms/step - loss: 1.3962e-04 - crf_viterbi_accuracy: 1.0000 - val_loss: 0.0693 - val_crf_viterbi_accuracy: 0.9900\n",
      "Epoch 39/50\n",
      "12137/12137 [==============================] - 60s 5ms/step - loss: 1.0567e-04 - crf_viterbi_accuracy: 1.0000 - val_loss: 0.0765 - val_crf_viterbi_accuracy: 0.9898\n",
      "Epoch 40/50\n",
      "12137/12137 [==============================] - 60s 5ms/step - loss: 1.1923e-04 - crf_viterbi_accuracy: 1.0000 - val_loss: 0.0765 - val_crf_viterbi_accuracy: 0.9905\n",
      "Epoch 41/50\n",
      "12137/12137 [==============================] - 60s 5ms/step - loss: 1.1973e-04 - crf_viterbi_accuracy: 1.0000 - val_loss: 0.0821 - val_crf_viterbi_accuracy: 0.9899\n",
      "Epoch 42/50\n",
      "12137/12137 [==============================] - 62s 5ms/step - loss: 1.0872e-04 - crf_viterbi_accuracy: 1.0000 - val_loss: 0.0847 - val_crf_viterbi_accuracy: 0.9886\n",
      "Epoch 43/50\n",
      "12137/12137 [==============================] - 60s 5ms/step - loss: 1.0314e-04 - crf_viterbi_accuracy: 1.0000 - val_loss: 0.0849 - val_crf_viterbi_accuracy: 0.9887\n",
      "Epoch 44/50\n",
      "12137/12137 [==============================] - 60s 5ms/step - loss: 1.1860e-04 - crf_viterbi_accuracy: 1.0000 - val_loss: 0.0761 - val_crf_viterbi_accuracy: 0.9902\n",
      "Epoch 45/50\n",
      "12137/12137 [==============================] - 60s 5ms/step - loss: 1.0449e-04 - crf_viterbi_accuracy: 1.0000 - val_loss: 0.0824 - val_crf_viterbi_accuracy: 0.9893\n",
      "Epoch 46/50\n",
      "12137/12137 [==============================] - 60s 5ms/step - loss: 1.1404e-04 - crf_viterbi_accuracy: 1.0000 - val_loss: 0.0898 - val_crf_viterbi_accuracy: 0.9891\n",
      "Epoch 47/50\n"
     ]
    },
    {
     "name": "stdout",
     "output_type": "stream",
     "text": [
      "12137/12137 [==============================] - 60s 5ms/step - loss: 1.1561e-04 - crf_viterbi_accuracy: 1.0000 - val_loss: 0.0784 - val_crf_viterbi_accuracy: 0.9904\n",
      "Epoch 48/50\n",
      "12137/12137 [==============================] - 60s 5ms/step - loss: 1.1243e-04 - crf_viterbi_accuracy: 1.0000 - val_loss: 0.0794 - val_crf_viterbi_accuracy: 0.9914\n",
      "Epoch 49/50\n",
      "12137/12137 [==============================] - 60s 5ms/step - loss: 1.2049e-04 - crf_viterbi_accuracy: 1.0000 - val_loss: 0.0842 - val_crf_viterbi_accuracy: 0.9897\n",
      "Epoch 50/50\n",
      "12137/12137 [==============================] - 60s 5ms/step - loss: 1.1547e-04 - crf_viterbi_accuracy: 1.0000 - val_loss: 0.0764 - val_crf_viterbi_accuracy: 0.9908\n"
     ]
    }
   ],
   "source": [
    "history = model.fit(X_tr, np.array(y_tr), batch_size=32, epochs=50, validation_split=0.1, verbose=1)"
   ]
  },
  {
   "cell_type": "code",
   "execution_count": 79,
   "metadata": {},
   "outputs": [
    {
     "name": "stdout",
     "output_type": "stream",
     "text": [
      "1499/1499 [==============================] - 3s 2ms/step\n"
     ]
    }
   ],
   "source": [
    "from seqeval.metrics import precision_score, recall_score, f1_score, classification_report\n",
    "test_pred = model.predict(X_te, verbose=1)\n",
    "\n",
    "idx2tag = {i: w for w, i in tag2idx.items()}\n",
    "\n",
    "def pred2label(pred):\n",
    "    out = []\n",
    "    for pred_i in pred:\n",
    "        out_i = []\n",
    "        for p in pred_i:\n",
    "            p_i = np.argmax(p)\n",
    "            out_i.append(idx2tag[p_i].replace(\"PAD\", \"O\"))\n",
    "        out.append(out_i)\n",
    "    return out\n",
    "    \n",
    "pred_labels = pred2label(test_pred)\n",
    "test_labels = pred2label(y_te)"
   ]
  },
  {
   "cell_type": "code",
   "execution_count": 80,
   "metadata": {},
   "outputs": [
    {
     "name": "stdout",
     "output_type": "stream",
     "text": [
      "             precision    recall  f1-score   support\n",
      "\n",
      "        ORG       0.72      0.76      0.74       632\n",
      "        LOC       0.84      0.87      0.85       727\n",
      "        PER       0.75      0.80      0.78       640\n",
      "       MISC       0.50      0.71      0.58       340\n",
      "\n",
      "avg / total       0.73      0.80      0.76      2339\n",
      "\n"
     ]
    }
   ],
   "source": [
    "print(classification_report(test_labels, pred_labels))"
   ]
  },
  {
   "cell_type": "code",
   "execution_count": null,
   "metadata": {},
   "outputs": [],
   "source": []
  }
 ],
 "metadata": {
  "kernelspec": {
   "display_name": "Python 3",
   "language": "python",
   "name": "python3"
  },
  "language_info": {
   "codemirror_mode": {
    "name": "ipython",
    "version": 3
   },
   "file_extension": ".py",
   "mimetype": "text/x-python",
   "name": "python",
   "nbconvert_exporter": "python",
   "pygments_lexer": "ipython3",
   "version": "3.6.8"
  }
 },
 "nbformat": 4,
 "nbformat_minor": 2
}
